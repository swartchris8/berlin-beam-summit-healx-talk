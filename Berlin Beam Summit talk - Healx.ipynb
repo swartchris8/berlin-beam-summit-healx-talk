{
 "cells": [
  {
   "cell_type": "markdown",
   "metadata": {},
   "source": [
    "# Berlin Beam Summit - NLP with beam and spacy\n",
    "\n",
    "## Setup"
   ]
  },
  {
   "cell_type": "markdown",
   "metadata": {},
   "source": [
    "This tutorial assumes you are running Python 3.7 please follow these steps to setup your environment: \n",
    "1. install requirements from `requirements.txt`\n",
    "2. download the spacy large english model\n"
   ]
  },
  {
   "cell_type": "code",
   "execution_count": 1,
   "metadata": {},
   "outputs": [],
   "source": [
    "# !pip install -r requirements.txt\n",
    "# !python -m spacy download en_core_web_lg"
   ]
  },
  {
   "cell_type": "markdown",
   "metadata": {},
   "source": [
    "## Import and initialise everything"
   ]
  },
  {
   "cell_type": "code",
   "execution_count": 1,
   "metadata": {},
   "outputs": [
    {
     "name": "stderr",
     "output_type": "stream",
     "text": [
      "/Users/chris/.pyenv/versions/3.7.2/envs/fastai/lib/python3.7/site-packages/apache_beam/__init__.py:84: UserWarning: Running the Apache Beam SDK on Python 3 is not yet fully supported. You may encounter buggy behavior or missing features.\n",
      "  'Running the Apache Beam SDK on Python 3 is not yet fully supported. '\n"
     ]
    }
   ],
   "source": [
    "import apache_beam as beam\n",
    "from apache_beam.io import fileio\n",
    "from apache_beam.options.pipeline_options import PipelineOptions, SetupOptions\n",
    "import spacy\n",
    "from spacy import displacy\n",
    "from spacy.pipeline import EntityRuler\n",
    "from spacy.symbols import nsubj, dobj, VERB\n",
    "from pathlib import Path\n",
    "import ujson as json\n",
    "import logging\n",
    "from six import string_types\n"
   ]
  },
  {
   "cell_type": "markdown",
   "metadata": {},
   "source": [
    "Initialising the spacy language model:"
   ]
  },
  {
   "cell_type": "code",
   "execution_count": 3,
   "metadata": {},
   "outputs": [],
   "source": [
    "nlp = spacy.load('en_core_web_lg')"
   ]
  },
  {
   "cell_type": "markdown",
   "metadata": {},
   "source": [
    "Let's setup mock disease and drug entity recognition:"
   ]
  },
  {
   "cell_type": "code",
   "execution_count": 4,
   "metadata": {},
   "outputs": [],
   "source": [
    "ruler = EntityRuler(nlp)\n",
    "patterns = [{\"label\": \"DRUG\", \"pattern\": [{\"lower\": \"aspirin\"}]},\n",
    "            {\"label\": \"DISEASE\", \"pattern\": \"heart attacks\"},\n",
    "            {\"label\": \"DISEASE\", \"pattern\": \"headaches\"}]\n",
    "ruler.add_patterns(patterns)\n",
    "nlp.add_pipe(ruler)"
   ]
  },
  {
   "cell_type": "markdown",
   "metadata": {},
   "source": [
    "Configuration for the spacy visualisations:"
   ]
  },
  {
   "cell_type": "code",
   "execution_count": 5,
   "metadata": {},
   "outputs": [],
   "source": [
    "colors = {\"DRUG\": \"hsla(100, 30%, 50%, 0.9)\", \"DISEASE\": \"salmon\"}\n",
    "options = {\"ents\": [\"DRUG\", \"DISEASE\"], \"colors\": colors, \"font\": \"Source Sans Pro\", \"collapse_phrases\": True}"
   ]
  },
  {
   "cell_type": "code",
   "execution_count": 6,
   "metadata": {},
   "outputs": [
    {
     "data": {
      "text/html": [
       "<div class=\"entities\" style=\"line-height: 2.5; direction: ltr\">\n",
       "<mark class=\"entity\" style=\"background: hsla(100, 30%, 50%, 0.9); padding: 0.45em 0.6em; margin: 0 0.25em; line-height: 1; border-radius: 0.35em; box-decoration-break: clone; -webkit-box-decoration-break: clone\">\n",
       "    Aspirin\n",
       "    <span style=\"font-size: 0.8em; font-weight: bold; line-height: 1; border-radius: 0.35em; text-transform: uppercase; vertical-align: middle; margin-left: 0.5rem\">DRUG</span>\n",
       "</mark>\n",
       " treats \n",
       "<mark class=\"entity\" style=\"background: salmon; padding: 0.45em 0.6em; margin: 0 0.25em; line-height: 1; border-radius: 0.35em; box-decoration-break: clone; -webkit-box-decoration-break: clone\">\n",
       "    headaches\n",
       "    <span style=\"font-size: 0.8em; font-weight: bold; line-height: 1; border-radius: 0.35em; text-transform: uppercase; vertical-align: middle; margin-left: 0.5rem\">DISEASE</span>\n",
       "</mark>\n",
       ". \n",
       "<mark class=\"entity\" style=\"background: hsla(100, 30%, 50%, 0.9); padding: 0.45em 0.6em; margin: 0 0.25em; line-height: 1; border-radius: 0.35em; box-decoration-break: clone; -webkit-box-decoration-break: clone\">\n",
       "    Aspirin\n",
       "    <span style=\"font-size: 0.8em; font-weight: bold; line-height: 1; border-radius: 0.35em; text-transform: uppercase; vertical-align: middle; margin-left: 0.5rem\">DRUG</span>\n",
       "</mark>\n",
       " can help prevent \n",
       "<mark class=\"entity\" style=\"background: salmon; padding: 0.45em 0.6em; margin: 0 0.25em; line-height: 1; border-radius: 0.35em; box-decoration-break: clone; -webkit-box-decoration-break: clone\">\n",
       "    heart attacks\n",
       "    <span style=\"font-size: 0.8em; font-weight: bold; line-height: 1; border-radius: 0.35em; text-transform: uppercase; vertical-align: middle; margin-left: 0.5rem\">DISEASE</span>\n",
       "</mark>\n",
       ".</div>"
      ],
      "text/plain": [
       "<IPython.core.display.HTML object>"
      ]
     },
     "metadata": {},
     "output_type": "display_data"
    }
   ],
   "source": [
    "text = \"Aspirin treats headaches. Aspirin can help prevent heart attacks.\"\n",
    "doc = nlp(text)\n",
    "displacy.render(doc, style=\"ent\", options=options)"
   ]
  },
  {
   "cell_type": "code",
   "execution_count": 7,
   "metadata": {},
   "outputs": [
    {
     "data": {
      "text/html": [
       "<svg xmlns=\"http://www.w3.org/2000/svg\" xmlns:xlink=\"http://www.w3.org/1999/xlink\" xml:lang=\"en\" id=\"16d38cf97b0844a9a401119c81ec6ed2-0\" class=\"displacy\" width=\"575\" height=\"224.5\" direction=\"ltr\" style=\"max-width: none; height: 224.5px; color: #000000; background: #ffffff; font-family: Arial; direction: ltr\">\n",
       "<text class=\"displacy-token\" fill=\"currentColor\" text-anchor=\"middle\" y=\"134.5\">\n",
       "    <tspan class=\"displacy-word\" fill=\"currentColor\" x=\"50\">Aspirin</tspan>\n",
       "    <tspan class=\"displacy-tag\" dy=\"2em\" fill=\"currentColor\" x=\"50\">NOUN</tspan>\n",
       "</text>\n",
       "\n",
       "<text class=\"displacy-token\" fill=\"currentColor\" text-anchor=\"middle\" y=\"134.5\">\n",
       "    <tspan class=\"displacy-word\" fill=\"currentColor\" x=\"225\">treats</tspan>\n",
       "    <tspan class=\"displacy-tag\" dy=\"2em\" fill=\"currentColor\" x=\"225\">VERB</tspan>\n",
       "</text>\n",
       "\n",
       "<text class=\"displacy-token\" fill=\"currentColor\" text-anchor=\"middle\" y=\"134.5\">\n",
       "    <tspan class=\"displacy-word\" fill=\"currentColor\" x=\"400\">headaches.</tspan>\n",
       "    <tspan class=\"displacy-tag\" dy=\"2em\" fill=\"currentColor\" x=\"400\">NOUN</tspan>\n",
       "</text>\n",
       "\n",
       "<g class=\"displacy-arrow\">\n",
       "    <path class=\"displacy-arc\" id=\"arrow-16d38cf97b0844a9a401119c81ec6ed2-0-0\" stroke-width=\"2px\" d=\"M70,89.5 C70,2.0 225.0,2.0 225.0,89.5\" fill=\"none\" stroke=\"currentColor\"/>\n",
       "    <text dy=\"1.25em\" style=\"font-size: 0.8em; letter-spacing: 1px\">\n",
       "        <textPath xlink:href=\"#arrow-16d38cf97b0844a9a401119c81ec6ed2-0-0\" class=\"displacy-label\" startOffset=\"50%\" side=\"left\" fill=\"currentColor\" text-anchor=\"middle\">nsubj</textPath>\n",
       "    </text>\n",
       "    <path class=\"displacy-arrowhead\" d=\"M70,91.5 L62,79.5 78,79.5\" fill=\"currentColor\"/>\n",
       "</g>\n",
       "\n",
       "<g class=\"displacy-arrow\">\n",
       "    <path class=\"displacy-arc\" id=\"arrow-16d38cf97b0844a9a401119c81ec6ed2-0-1\" stroke-width=\"2px\" d=\"M245,89.5 C245,2.0 400.0,2.0 400.0,89.5\" fill=\"none\" stroke=\"currentColor\"/>\n",
       "    <text dy=\"1.25em\" style=\"font-size: 0.8em; letter-spacing: 1px\">\n",
       "        <textPath xlink:href=\"#arrow-16d38cf97b0844a9a401119c81ec6ed2-0-1\" class=\"displacy-label\" startOffset=\"50%\" side=\"left\" fill=\"currentColor\" text-anchor=\"middle\">dobj</textPath>\n",
       "    </text>\n",
       "    <path class=\"displacy-arrowhead\" d=\"M400.0,91.5 L408.0,79.5 392.0,79.5\" fill=\"currentColor\"/>\n",
       "</g>\n",
       "</svg>"
      ],
      "text/plain": [
       "<IPython.core.display.HTML object>"
      ]
     },
     "metadata": {},
     "output_type": "display_data"
    }
   ],
   "source": [
    "doc = nlp(\"Aspirin treats headaches.\")\n",
    "svg = displacy.render(doc, style=\"dep\")"
   ]
  },
  {
   "cell_type": "code",
   "execution_count": 8,
   "metadata": {},
   "outputs": [
    {
     "data": {
      "text/html": [
       "<svg xmlns=\"http://www.w3.org/2000/svg\" xmlns:xlink=\"http://www.w3.org/1999/xlink\" xml:lang=\"en\" id=\"d5d5b737d1084dbfabb10abc011e12f0-0\" class=\"displacy\" width=\"1100\" height=\"312.0\" direction=\"ltr\" style=\"max-width: none; height: 312.0px; color: #000000; background: #ffffff; font-family: Arial; direction: ltr\">\n",
       "<text class=\"displacy-token\" fill=\"currentColor\" text-anchor=\"middle\" y=\"222.0\">\n",
       "    <tspan class=\"displacy-word\" fill=\"currentColor\" x=\"50\">Aspirin</tspan>\n",
       "    <tspan class=\"displacy-tag\" dy=\"2em\" fill=\"currentColor\" x=\"50\">NOUN</tspan>\n",
       "</text>\n",
       "\n",
       "<text class=\"displacy-token\" fill=\"currentColor\" text-anchor=\"middle\" y=\"222.0\">\n",
       "    <tspan class=\"displacy-word\" fill=\"currentColor\" x=\"225\">can</tspan>\n",
       "    <tspan class=\"displacy-tag\" dy=\"2em\" fill=\"currentColor\" x=\"225\">VERB</tspan>\n",
       "</text>\n",
       "\n",
       "<text class=\"displacy-token\" fill=\"currentColor\" text-anchor=\"middle\" y=\"222.0\">\n",
       "    <tspan class=\"displacy-word\" fill=\"currentColor\" x=\"400\">help</tspan>\n",
       "    <tspan class=\"displacy-tag\" dy=\"2em\" fill=\"currentColor\" x=\"400\">VERB</tspan>\n",
       "</text>\n",
       "\n",
       "<text class=\"displacy-token\" fill=\"currentColor\" text-anchor=\"middle\" y=\"222.0\">\n",
       "    <tspan class=\"displacy-word\" fill=\"currentColor\" x=\"575\">prevent</tspan>\n",
       "    <tspan class=\"displacy-tag\" dy=\"2em\" fill=\"currentColor\" x=\"575\">VERB</tspan>\n",
       "</text>\n",
       "\n",
       "<text class=\"displacy-token\" fill=\"currentColor\" text-anchor=\"middle\" y=\"222.0\">\n",
       "    <tspan class=\"displacy-word\" fill=\"currentColor\" x=\"750\">heart</tspan>\n",
       "    <tspan class=\"displacy-tag\" dy=\"2em\" fill=\"currentColor\" x=\"750\">NOUN</tspan>\n",
       "</text>\n",
       "\n",
       "<text class=\"displacy-token\" fill=\"currentColor\" text-anchor=\"middle\" y=\"222.0\">\n",
       "    <tspan class=\"displacy-word\" fill=\"currentColor\" x=\"925\">attacks.</tspan>\n",
       "    <tspan class=\"displacy-tag\" dy=\"2em\" fill=\"currentColor\" x=\"925\">NOUN</tspan>\n",
       "</text>\n",
       "\n",
       "<g class=\"displacy-arrow\">\n",
       "    <path class=\"displacy-arc\" id=\"arrow-d5d5b737d1084dbfabb10abc011e12f0-0-0\" stroke-width=\"2px\" d=\"M70,177.0 C70,2.0 400.0,2.0 400.0,177.0\" fill=\"none\" stroke=\"currentColor\"/>\n",
       "    <text dy=\"1.25em\" style=\"font-size: 0.8em; letter-spacing: 1px\">\n",
       "        <textPath xlink:href=\"#arrow-d5d5b737d1084dbfabb10abc011e12f0-0-0\" class=\"displacy-label\" startOffset=\"50%\" side=\"left\" fill=\"currentColor\" text-anchor=\"middle\">nsubj</textPath>\n",
       "    </text>\n",
       "    <path class=\"displacy-arrowhead\" d=\"M70,179.0 L62,167.0 78,167.0\" fill=\"currentColor\"/>\n",
       "</g>\n",
       "\n",
       "<g class=\"displacy-arrow\">\n",
       "    <path class=\"displacy-arc\" id=\"arrow-d5d5b737d1084dbfabb10abc011e12f0-0-1\" stroke-width=\"2px\" d=\"M245,177.0 C245,89.5 395.0,89.5 395.0,177.0\" fill=\"none\" stroke=\"currentColor\"/>\n",
       "    <text dy=\"1.25em\" style=\"font-size: 0.8em; letter-spacing: 1px\">\n",
       "        <textPath xlink:href=\"#arrow-d5d5b737d1084dbfabb10abc011e12f0-0-1\" class=\"displacy-label\" startOffset=\"50%\" side=\"left\" fill=\"currentColor\" text-anchor=\"middle\">aux</textPath>\n",
       "    </text>\n",
       "    <path class=\"displacy-arrowhead\" d=\"M245,179.0 L237,167.0 253,167.0\" fill=\"currentColor\"/>\n",
       "</g>\n",
       "\n",
       "<g class=\"displacy-arrow\">\n",
       "    <path class=\"displacy-arc\" id=\"arrow-d5d5b737d1084dbfabb10abc011e12f0-0-2\" stroke-width=\"2px\" d=\"M420,177.0 C420,89.5 570.0,89.5 570.0,177.0\" fill=\"none\" stroke=\"currentColor\"/>\n",
       "    <text dy=\"1.25em\" style=\"font-size: 0.8em; letter-spacing: 1px\">\n",
       "        <textPath xlink:href=\"#arrow-d5d5b737d1084dbfabb10abc011e12f0-0-2\" class=\"displacy-label\" startOffset=\"50%\" side=\"left\" fill=\"currentColor\" text-anchor=\"middle\">xcomp</textPath>\n",
       "    </text>\n",
       "    <path class=\"displacy-arrowhead\" d=\"M570.0,179.0 L578.0,167.0 562.0,167.0\" fill=\"currentColor\"/>\n",
       "</g>\n",
       "\n",
       "<g class=\"displacy-arrow\">\n",
       "    <path class=\"displacy-arc\" id=\"arrow-d5d5b737d1084dbfabb10abc011e12f0-0-3\" stroke-width=\"2px\" d=\"M770,177.0 C770,89.5 920.0,89.5 920.0,177.0\" fill=\"none\" stroke=\"currentColor\"/>\n",
       "    <text dy=\"1.25em\" style=\"font-size: 0.8em; letter-spacing: 1px\">\n",
       "        <textPath xlink:href=\"#arrow-d5d5b737d1084dbfabb10abc011e12f0-0-3\" class=\"displacy-label\" startOffset=\"50%\" side=\"left\" fill=\"currentColor\" text-anchor=\"middle\">compound</textPath>\n",
       "    </text>\n",
       "    <path class=\"displacy-arrowhead\" d=\"M770,179.0 L762,167.0 778,167.0\" fill=\"currentColor\"/>\n",
       "</g>\n",
       "\n",
       "<g class=\"displacy-arrow\">\n",
       "    <path class=\"displacy-arc\" id=\"arrow-d5d5b737d1084dbfabb10abc011e12f0-0-4\" stroke-width=\"2px\" d=\"M595,177.0 C595,2.0 925.0,2.0 925.0,177.0\" fill=\"none\" stroke=\"currentColor\"/>\n",
       "    <text dy=\"1.25em\" style=\"font-size: 0.8em; letter-spacing: 1px\">\n",
       "        <textPath xlink:href=\"#arrow-d5d5b737d1084dbfabb10abc011e12f0-0-4\" class=\"displacy-label\" startOffset=\"50%\" side=\"left\" fill=\"currentColor\" text-anchor=\"middle\">dobj</textPath>\n",
       "    </text>\n",
       "    <path class=\"displacy-arrowhead\" d=\"M925.0,179.0 L933.0,167.0 917.0,167.0\" fill=\"currentColor\"/>\n",
       "</g>\n",
       "</svg>"
      ],
      "text/plain": [
       "<IPython.core.display.HTML object>"
      ]
     },
     "metadata": {},
     "output_type": "display_data"
    }
   ],
   "source": [
    "doc = nlp(\"Aspirin can help prevent heart attacks.\")\n",
    "svg = displacy.render(doc, style=\"dep\")"
   ]
  },
  {
   "cell_type": "code",
   "execution_count": 9,
   "metadata": {},
   "outputs": [],
   "source": [
    "def extract_entities(nlp, text):\n",
    "    doc = nlp(text)\n",
    "    entities = [{\"entity_text\": entity.text, \"label\": entity.label_} for entity in doc.ents]\n",
    "    entity_dict = {u\"entities\": entities, u\"text\": text}\n",
    "    return entity_dict\n",
    "\n",
    "\n",
    "class EntityExtraction(beam.DoFn):\n",
    "\n",
    "    def __init__(self):\n",
    "        self.nlp = None\n",
    "\n",
    "    def process(self, element, *args, **kwargs):\n",
    "        if element and isinstance(element, string_types):\n",
    "            element = json.loads(element)\n",
    "        try:\n",
    "            entity_dict = extract_entities(self.nlp, element[\"text\"])\n",
    "            yield json.dumps(entity_dict)\n",
    "        except Exception as e:\n",
    "            logging.error(\"Can not extract entities from {}\".format(element[\"text\"]) + str(e))\n",
    "            \n",
    "    def start_bundle(self):\n",
    "        \"\"\"\n",
    "        Lazy initialisation of spacy model\n",
    "        \"\"\"\n",
    "        if self.nlp is None:\n",
    "            self.nlp = spacy.load('en_core_web_lg')\n",
    "            ruler = EntityRuler(nlp)\n",
    "            patterns = [{\"label\": \"DRUG\", \"pattern\": [{\"lower\": \"aspirin\"}]},\n",
    "                        {\"label\": \"DISEASE\", \"pattern\": [{\"lower\": \"heart\"}, {\"lower\": \"attacks\"}]},\n",
    "                        {\"label\": \"DISEASE\", \"pattern\": [{\"lower\": \"headaches\"}]},\n",
    "                       ]\n",
    "            ruler.add_patterns(patterns)\n",
    "            self.nlp.add_pipe(ruler)\n",
    "    "
   ]
  },
  {
   "cell_type": "code",
   "execution_count": 10,
   "metadata": {},
   "outputs": [
    {
     "name": "stderr",
     "output_type": "stream",
     "text": [
      "WARNING:root:Deleting 1 existing files in target path matching: -*-of-%(num_shards)05d\n"
     ]
    }
   ],
   "source": [
    "input_json = ['{\"text\":\"Aspirin treats headaches.\"}', '{\"text\":\"Aspirin can help prevent heart attacks.\"}']\n",
    "\n",
    "pipeline_options = PipelineOptions(\n",
    "    project = \"extract-drug-entities\",\n",
    "    job_name = \"extractents\",\n",
    "    temp_location = \"extractents/tmp/\",\n",
    "    runner = 'DirectRunner',)\n",
    "\n",
    "output = \"output_folder/\"\n",
    "\n",
    "pipeline_options.view_as(SetupOptions).save_main_session = True\n",
    "with beam.Pipeline(options=pipeline_options) as p:\n",
    "    json_collection = p | 'GetJSON' >> beam.Create(input_json)\n",
    "    entities = json_collection | 'ExtractEntity' >> beam.ParDo(EntityExtraction())\n",
    "    entities | 'WriteEntityJSON' >> beam.io.WriteToText(output,\n",
    "                                                     file_name_suffix='ent.json')\n",
    "\n"
   ]
  },
  {
   "cell_type": "code",
   "execution_count": 11,
   "metadata": {},
   "outputs": [
    {
     "name": "stdout",
     "output_type": "stream",
     "text": [
      "Data in output_folder/-00000-of-00001ent.json\n",
      "{'entities': [{'entity_text': 'Aspirin', 'label': 'DRUG'}, {'entity_text': 'headaches', 'label': 'DISEASE'}], 'text': 'Aspirin treats headaches.'}\n",
      "{'entities': [{'entity_text': 'Aspirin', 'label': 'DRUG'}, {'entity_text': 'heart attacks', 'label': 'DISEASE'}], 'text': 'Aspirin can help prevent heart attacks.'}\n"
     ]
    }
   ],
   "source": [
    "p = Path(\"output_folder\").glob('**/*ent.json')\n",
    "files = [x for x in p if x.is_file()]\n",
    "\n",
    "for f in files:\n",
    "    with f.open() as data_file:\n",
    "        print(\"Data in {}\".format(f))\n",
    "        for line in data_file:\n",
    "            data = json.loads(line)\n",
    "            print(data)"
   ]
  },
  {
   "cell_type": "code",
   "execution_count": 12,
   "metadata": {},
   "outputs": [
    {
     "data": {
      "text/html": [
       "<svg xmlns=\"http://www.w3.org/2000/svg\" xmlns:xlink=\"http://www.w3.org/1999/xlink\" xml:lang=\"en\" id=\"0f254c07d40e495e8f54f29a59828634-0\" class=\"displacy\" width=\"1100\" height=\"312.0\" direction=\"ltr\" style=\"max-width: none; height: 312.0px; color: #000000; background: #ffffff; font-family: Arial; direction: ltr\">\n",
       "<text class=\"displacy-token\" fill=\"currentColor\" text-anchor=\"middle\" y=\"222.0\">\n",
       "    <tspan class=\"displacy-word\" fill=\"currentColor\" x=\"50\">Aspirin</tspan>\n",
       "    <tspan class=\"displacy-tag\" dy=\"2em\" fill=\"currentColor\" x=\"50\">NOUN</tspan>\n",
       "</text>\n",
       "\n",
       "<text class=\"displacy-token\" fill=\"currentColor\" text-anchor=\"middle\" y=\"222.0\">\n",
       "    <tspan class=\"displacy-word\" fill=\"currentColor\" x=\"225\">can</tspan>\n",
       "    <tspan class=\"displacy-tag\" dy=\"2em\" fill=\"currentColor\" x=\"225\">VERB</tspan>\n",
       "</text>\n",
       "\n",
       "<text class=\"displacy-token\" fill=\"currentColor\" text-anchor=\"middle\" y=\"222.0\">\n",
       "    <tspan class=\"displacy-word\" fill=\"currentColor\" x=\"400\">help</tspan>\n",
       "    <tspan class=\"displacy-tag\" dy=\"2em\" fill=\"currentColor\" x=\"400\">VERB</tspan>\n",
       "</text>\n",
       "\n",
       "<text class=\"displacy-token\" fill=\"currentColor\" text-anchor=\"middle\" y=\"222.0\">\n",
       "    <tspan class=\"displacy-word\" fill=\"currentColor\" x=\"575\">prevent</tspan>\n",
       "    <tspan class=\"displacy-tag\" dy=\"2em\" fill=\"currentColor\" x=\"575\">VERB</tspan>\n",
       "</text>\n",
       "\n",
       "<text class=\"displacy-token\" fill=\"currentColor\" text-anchor=\"middle\" y=\"222.0\">\n",
       "    <tspan class=\"displacy-word\" fill=\"currentColor\" x=\"750\">heart</tspan>\n",
       "    <tspan class=\"displacy-tag\" dy=\"2em\" fill=\"currentColor\" x=\"750\">NOUN</tspan>\n",
       "</text>\n",
       "\n",
       "<text class=\"displacy-token\" fill=\"currentColor\" text-anchor=\"middle\" y=\"222.0\">\n",
       "    <tspan class=\"displacy-word\" fill=\"currentColor\" x=\"925\">attacks.</tspan>\n",
       "    <tspan class=\"displacy-tag\" dy=\"2em\" fill=\"currentColor\" x=\"925\">NOUN</tspan>\n",
       "</text>\n",
       "\n",
       "<g class=\"displacy-arrow\">\n",
       "    <path class=\"displacy-arc\" id=\"arrow-0f254c07d40e495e8f54f29a59828634-0-0\" stroke-width=\"2px\" d=\"M70,177.0 C70,2.0 400.0,2.0 400.0,177.0\" fill=\"none\" stroke=\"currentColor\"/>\n",
       "    <text dy=\"1.25em\" style=\"font-size: 0.8em; letter-spacing: 1px\">\n",
       "        <textPath xlink:href=\"#arrow-0f254c07d40e495e8f54f29a59828634-0-0\" class=\"displacy-label\" startOffset=\"50%\" side=\"left\" fill=\"currentColor\" text-anchor=\"middle\">nsubj</textPath>\n",
       "    </text>\n",
       "    <path class=\"displacy-arrowhead\" d=\"M70,179.0 L62,167.0 78,167.0\" fill=\"currentColor\"/>\n",
       "</g>\n",
       "\n",
       "<g class=\"displacy-arrow\">\n",
       "    <path class=\"displacy-arc\" id=\"arrow-0f254c07d40e495e8f54f29a59828634-0-1\" stroke-width=\"2px\" d=\"M245,177.0 C245,89.5 395.0,89.5 395.0,177.0\" fill=\"none\" stroke=\"currentColor\"/>\n",
       "    <text dy=\"1.25em\" style=\"font-size: 0.8em; letter-spacing: 1px\">\n",
       "        <textPath xlink:href=\"#arrow-0f254c07d40e495e8f54f29a59828634-0-1\" class=\"displacy-label\" startOffset=\"50%\" side=\"left\" fill=\"currentColor\" text-anchor=\"middle\">aux</textPath>\n",
       "    </text>\n",
       "    <path class=\"displacy-arrowhead\" d=\"M245,179.0 L237,167.0 253,167.0\" fill=\"currentColor\"/>\n",
       "</g>\n",
       "\n",
       "<g class=\"displacy-arrow\">\n",
       "    <path class=\"displacy-arc\" id=\"arrow-0f254c07d40e495e8f54f29a59828634-0-2\" stroke-width=\"2px\" d=\"M420,177.0 C420,89.5 570.0,89.5 570.0,177.0\" fill=\"none\" stroke=\"currentColor\"/>\n",
       "    <text dy=\"1.25em\" style=\"font-size: 0.8em; letter-spacing: 1px\">\n",
       "        <textPath xlink:href=\"#arrow-0f254c07d40e495e8f54f29a59828634-0-2\" class=\"displacy-label\" startOffset=\"50%\" side=\"left\" fill=\"currentColor\" text-anchor=\"middle\">xcomp</textPath>\n",
       "    </text>\n",
       "    <path class=\"displacy-arrowhead\" d=\"M570.0,179.0 L578.0,167.0 562.0,167.0\" fill=\"currentColor\"/>\n",
       "</g>\n",
       "\n",
       "<g class=\"displacy-arrow\">\n",
       "    <path class=\"displacy-arc\" id=\"arrow-0f254c07d40e495e8f54f29a59828634-0-3\" stroke-width=\"2px\" d=\"M770,177.0 C770,89.5 920.0,89.5 920.0,177.0\" fill=\"none\" stroke=\"currentColor\"/>\n",
       "    <text dy=\"1.25em\" style=\"font-size: 0.8em; letter-spacing: 1px\">\n",
       "        <textPath xlink:href=\"#arrow-0f254c07d40e495e8f54f29a59828634-0-3\" class=\"displacy-label\" startOffset=\"50%\" side=\"left\" fill=\"currentColor\" text-anchor=\"middle\">compound</textPath>\n",
       "    </text>\n",
       "    <path class=\"displacy-arrowhead\" d=\"M770,179.0 L762,167.0 778,167.0\" fill=\"currentColor\"/>\n",
       "</g>\n",
       "\n",
       "<g class=\"displacy-arrow\">\n",
       "    <path class=\"displacy-arc\" id=\"arrow-0f254c07d40e495e8f54f29a59828634-0-4\" stroke-width=\"2px\" d=\"M595,177.0 C595,2.0 925.0,2.0 925.0,177.0\" fill=\"none\" stroke=\"currentColor\"/>\n",
       "    <text dy=\"1.25em\" style=\"font-size: 0.8em; letter-spacing: 1px\">\n",
       "        <textPath xlink:href=\"#arrow-0f254c07d40e495e8f54f29a59828634-0-4\" class=\"displacy-label\" startOffset=\"50%\" side=\"left\" fill=\"currentColor\" text-anchor=\"middle\">dobj</textPath>\n",
       "    </text>\n",
       "    <path class=\"displacy-arrowhead\" d=\"M925.0,179.0 L933.0,167.0 917.0,167.0\" fill=\"currentColor\"/>\n",
       "</g>\n",
       "</svg>"
      ],
      "text/plain": [
       "<IPython.core.display.HTML object>"
      ]
     },
     "metadata": {},
     "output_type": "display_data"
    },
    {
     "name": "stdout",
     "output_type": "stream",
     "text": [
      "Aspirin treats None\n",
      "Aspirin treats headaches\n",
      "Aspirin help headaches\n",
      "Aspirin help heart attacks\n"
     ]
    }
   ],
   "source": [
    "doc = nlp(\"Aspirin can help prevent heart attacks.\")\n",
    "svg = displacy.render(doc, style=\"dep\")\n",
    "\n",
    "head = None\n",
    "relation = None\n",
    "tail = None\n",
    "doc = nlp(text)\n",
    "for noun_chunk in doc.noun_chunks:\n",
    "    if noun_chunk.root.dep == nsubj and noun_chunk.root.head.pos == VERB:\n",
    "        relation = noun_chunk.root.head\n",
    "        head = noun_chunk\n",
    "    if noun_chunk.root.dep == dobj:\n",
    "        tail = noun_chunk\n",
    "    print(head, relation, tail)\n"
   ]
  },
  {
   "cell_type": "code",
   "execution_count": 2,
   "metadata": {},
   "outputs": [],
   "source": [
    "def extract_triple(nlp, text):\n",
    "    head = None\n",
    "    relation = None\n",
    "    tail = None\n",
    "    doc = nlp(text)\n",
    "    for noun_chunk in doc.noun_chunks:\n",
    "        if noun_chunk.root.dep == nsubj and noun_chunk.root.head.pos == VERB:\n",
    "            relation = noun_chunk.root.head\n",
    "            head = noun_chunk\n",
    "        if noun_chunk.root.dep == dobj:\n",
    "            tail = noun_chunk\n",
    "            \n",
    "    print(head, relation, tail)\n",
    "    if head and relation and tail:\n",
    "        if head.ents or tail.ents:\n",
    "            yield {\"head\": head.text, \"relation\": relation.text, \"tail\": tail.text}\n",
    "\n",
    "\n",
    "class TripleExtraction(beam.DoFn):\n",
    "\n",
    "    def __init__(self):\n",
    "        self.nlp = None\n",
    "\n",
    "    def process(self, element, *args, **kwargs):\n",
    "        if element and isinstance(element, string_types):\n",
    "            element = json.loads(element)\n",
    "            print(element)\n",
    "            try:\n",
    "                for triple_dict in extract_triple(self.nlp, element[\"text\"]):\n",
    "                    print(triple_dict)\n",
    "                    yield json.dumps(triple_dict)\n",
    "            except Exception as e:\n",
    "                logging.error(\"Can not extract entities from {}\".format(element[\"text\"]) + str(e))\n",
    "            \n",
    "    def start_bundle(self):\n",
    "        \"\"\"\n",
    "        Lazy initialisation of spacy model\n",
    "        \"\"\"\n",
    "        if self.nlp is None:\n",
    "            self.nlp = spacy.load('en_core_web_lg')\n",
    "            ruler = EntityRuler(self.nlp)\n",
    "            patterns = [{\"label\": \"DRUG\", \"pattern\": [{\"lower\": \"aspirin\"}]},\n",
    "                        {\"label\": \"DISEASE\", \"pattern\": [{\"lower\": \"heart\"}, {\"lower\": \"attacks\"}]},\n",
    "                        {\"label\": \"DISEASE\", \"pattern\": [{\"lower\": \"headaches\"}]},\n",
    "                       ]\n",
    "            ruler.add_patterns(patterns)\n",
    "            self.nlp.add_pipe(ruler)"
   ]
  },
  {
   "cell_type": "code",
   "execution_count": 3,
   "metadata": {},
   "outputs": [
    {
     "name": "stderr",
     "output_type": "stream",
     "text": [
      "WARNING:root:Deleting 1 existing files in target path matching: -*-of-%(num_shards)05d\n"
     ]
    },
    {
     "name": "stdout",
     "output_type": "stream",
     "text": [
      "{'text': 'Aspirin treats headaches.'}\n",
      "Aspirin treats headaches\n",
      "{'head': 'Aspirin', 'relation': 'treats', 'tail': 'headaches'}\n",
      "{'text': 'Aspirin can help prevent heart attacks.'}\n",
      "Aspirin help heart attacks\n",
      "{'head': 'Aspirin', 'relation': 'help', 'tail': 'heart attacks'}\n"
     ]
    }
   ],
   "source": [
    "input_json = ['{\"text\":\"Aspirin treats headaches.\"}', '{\"text\":\"Aspirin can help prevent heart attacks.\"}']\n",
    "\n",
    "rel_pipeline_options = PipelineOptions(\n",
    "    project = \"extract-drug-triples\",\n",
    "    job_name = \"extracttriples\",\n",
    "    temp_location = \"extracttriples/tmp/\",\n",
    "    runner = 'DirectRunner',)\n",
    "\n",
    "output = \"output_folder/\"\n",
    "\n",
    "rel_pipeline_options.view_as(SetupOptions).save_main_session = True\n",
    "with beam.Pipeline(options=rel_pipeline_options) as rp:\n",
    "    rel_json_collection = rp | 'GetRelJSON' >> beam.Create(input_json)\n",
    "    triples = rel_json_collection | 'ExtractTriple' >> beam.ParDo(TripleExtraction())\n",
    "    triples | 'WriteRelationJSON' >> beam.io.WriteToText(output,\n",
    "                                                     file_name_suffix='relation.json')"
   ]
  },
  {
   "cell_type": "code",
   "execution_count": null,
   "metadata": {},
   "outputs": [],
   "source": [
    "p = Path(\"output_folder\").glob('**/*relation.json')\n",
    "files = [x for x in p if x.is_file()]\n",
    "print(files)\n",
    "\n",
    "for f in files:\n",
    "    with f.open() as data_file:\n",
    "        print(\"Data in {}\".format(f))\n",
    "        for line in data_file:\n",
    "            data = json.loads(line)\n",
    "            print(data)"
   ]
  }
 ],
 "metadata": {
  "kernelspec": {
   "display_name": "Python 3",
   "language": "python",
   "name": "python3"
  },
  "language_info": {
   "codemirror_mode": {
    "name": "ipython",
    "version": 3
   },
   "file_extension": ".py",
   "mimetype": "text/x-python",
   "name": "python",
   "nbconvert_exporter": "python",
   "pygments_lexer": "ipython3",
   "version": "3.7.2"
  }
 },
 "nbformat": 4,
 "nbformat_minor": 2
}
